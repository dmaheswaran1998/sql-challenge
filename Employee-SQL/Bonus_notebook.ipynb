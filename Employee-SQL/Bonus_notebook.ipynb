{
 "cells": [
  {
   "cell_type": "code",
   "execution_count": 1,
   "metadata": {},
   "outputs": [],
   "source": [
    "#importing modules\n",
    "import psycopg2\n",
    "import pandas as pd\n",
    "import pylab as pl\n",
    "import matplotlib.pyplot as plt\n",
    "from Password import password\n"
   ]
  },
  {
   "cell_type": "code",
   "execution_count": 2,
   "metadata": {},
   "outputs": [],
   "source": [
    "#used module psycopg2 not alchemy as the other module did not work. Thus used a slightly different approach\n",
    "\n",
    "conn = psycopg2.connect(host=\"localhost\", port = 5432, database=\"employees_db\", user=\"postgres\", password=f'{password}')\n",
    "\n"
   ]
  },
  {
   "cell_type": "code",
   "execution_count": 3,
   "metadata": {},
   "outputs": [
    {
     "data": {
      "text/html": [
       "<div>\n",
       "<style scoped>\n",
       "    .dataframe tbody tr th:only-of-type {\n",
       "        vertical-align: middle;\n",
       "    }\n",
       "\n",
       "    .dataframe tbody tr th {\n",
       "        vertical-align: top;\n",
       "    }\n",
       "\n",
       "    .dataframe thead th {\n",
       "        text-align: right;\n",
       "    }\n",
       "</style>\n",
       "<table border=\"1\" class=\"dataframe\">\n",
       "  <thead>\n",
       "    <tr style=\"text-align: right;\">\n",
       "      <th></th>\n",
       "      <th>emp_no</th>\n",
       "      <th>salary</th>\n",
       "    </tr>\n",
       "  </thead>\n",
       "  <tbody>\n",
       "    <tr>\n",
       "      <th>0</th>\n",
       "      <td>10001</td>\n",
       "      <td>60117</td>\n",
       "    </tr>\n",
       "    <tr>\n",
       "      <th>1</th>\n",
       "      <td>10002</td>\n",
       "      <td>65828</td>\n",
       "    </tr>\n",
       "    <tr>\n",
       "      <th>2</th>\n",
       "      <td>10003</td>\n",
       "      <td>40006</td>\n",
       "    </tr>\n",
       "    <tr>\n",
       "      <th>3</th>\n",
       "      <td>10004</td>\n",
       "      <td>40054</td>\n",
       "    </tr>\n",
       "    <tr>\n",
       "      <th>4</th>\n",
       "      <td>10005</td>\n",
       "      <td>78228</td>\n",
       "    </tr>\n",
       "  </tbody>\n",
       "</table>\n",
       "</div>"
      ],
      "text/plain": [
       "   emp_no  salary\n",
       "0   10001   60117\n",
       "1   10002   65828\n",
       "2   10003   40006\n",
       "3   10004   40054\n",
       "4   10005   78228"
      ]
     },
     "execution_count": 3,
     "metadata": {},
     "output_type": "execute_result"
    }
   ],
   "source": [
    "#Salaries table\n",
    "salaries = pd.read_sql(\"SELECT * FROM salaries\", conn)\n",
    "salaries.head()"
   ]
  },
  {
   "cell_type": "code",
   "execution_count": 4,
   "metadata": {},
   "outputs": [],
   "source": [
    "salaries_2=pd.DataFrame(salaries[\"salary\"])"
   ]
  },
  {
   "cell_type": "code",
   "execution_count": 5,
   "metadata": {},
   "outputs": [
    {
     "data": {
      "image/png": "[encoded data removed]",
      "text/plain": [
       "<Figure size 432x288 with 1 Axes>"
      ]
     },
     "metadata": {
      "needs_background": "light"
     },
     "output_type": "display_data"
    }
   ],
   "source": [
    "#Histogram of salaries\n",
    "hist = salaries_2.hist(bins=10)\n",
    "pl.title(\"Histogram of Salaries\")\n",
    "pl.xlabel(\"Salary\")\n",
    "pl.ylabel(\"Frequency\")\n",
    "plt.savefig('Histogram of Salaries')\n"
   ]
  },
  {
   "cell_type": "markdown",
   "metadata": {},
   "source": [
    "Clerly, most employees earn between 40-45 thousand per year. The data seems to have a very strong positive skew. Usually wages in a company are more normally distributed, so this histogram is somewhat suspicious and could be because the data is fabricated."
   ]
  },
  {
   "cell_type": "code",
   "execution_count": 6,
   "metadata": {},
   "outputs": [],
   "source": [
    "#importing employees database \n",
    "employees=pd.read_sql(\"SELECT * FROM employees\", conn)\n",
    "titles=pd.read_sql(\"SELECT * FROM titles\", conn)\n"
   ]
  },
  {
   "cell_type": "code",
   "execution_count": 7,
   "metadata": {},
   "outputs": [
    {
     "data": {
      "text/plain": [
       "emp_no        300024\n",
       "title_id      300024\n",
       "birth_date    300024\n",
       "first_name    300024\n",
       "last_name     300024\n",
       "sex           300024\n",
       "hire_date     300024\n",
       "salary        300024\n",
       "title         300024\n",
       "dtype: int64"
      ]
     },
     "execution_count": 7,
     "metadata": {},
     "output_type": "execute_result"
    }
   ],
   "source": [
    "#Merging the two databases together \n",
    "merge_employees = pd.merge(employees, salaries, on=\"emp_no\")\n",
    "merge_employees.count()\n",
    "#merging the titles databse to get all the names for the titles\n",
    "merge_employees.rename(columns = {'emp_title_id':'title_id'}, inplace = True)\n",
    "merge_employees = pd.merge(merge_employees, titles, on=\"title_id\")\n",
    "#checking to see if there are any null values \n",
    "merge_employees.count()\n",
    "#no null values are here and therefore do not need to fill any nul lvalues\n"
   ]
  },
  {
   "cell_type": "code",
   "execution_count": 8,
   "metadata": {},
   "outputs": [],
   "source": [
    "#cleaning the dataframe, dropping all null rows\n",
    "\n",
    "\n",
    "grouped_title_salary=merge_employees.groupby(['title']) \n",
    "salary_emp=grouped_title_salary[\"salary\"].mean()\n"
   ]
  },
  {
   "cell_type": "code",
   "execution_count": 9,
   "metadata": {},
   "outputs": [],
   "source": [
    "salary_emp=pd.DataFrame(salary_emp)"
   ]
  },
  {
   "cell_type": "code",
   "execution_count": 10,
   "metadata": {},
   "outputs": [
    {
     "data": {
      "image/png": "[encoded data removed]",
      "text/plain": [
       "<Figure size 432x288 with 1 Axes>"
      ]
     },
     "metadata": {
      "needs_background": "light"
     },
     "output_type": "display_data"
    }
   ],
   "source": [
    "#Graph Average salary bar chart \n",
    "count_chart = salary_emp.plot(kind='barh')\n",
    "count_chart.set_xlabel(\"Average Salary\")\n",
    "count_chart.set_ylabel(\"Staff Title\")\n",
    "count_chart.set_title(\"Bar Chart showing Average Salary by Staff Title\")\n",
    "plt.savefig('Bar_chart_avgsalary_title')\n",
    "\n"
   ]
  },
  {
   "cell_type": "markdown",
   "metadata": {},
   "source": [
    "The average salary for Assistant Engineer, Senior Engineer and Engineer is exactly the same which is unlikely. This is because it would be expected that the Assistant Engineer would earn less than the Engineer and that the Engineer woudl earn less than the Senior Engineer. Thus, this is somewhat suspicious and looks like the data has been fabricated. "
   ]
  },
  {
   "cell_type": "code",
   "execution_count": null,
   "metadata": {},
   "outputs": [],
   "source": []
  }
 ],
 "metadata": {
  "kernelspec": {
   "display_name": "Python 3",
   "language": "python",
   "name": "python3"
  },
  "language_info": {
   "codemirror_mode": {
    "name": "ipython",
    "version": 3
   },
   "file_extension": ".py",
   "mimetype": "text/x-python",
   "name": "python",
   "nbconvert_exporter": "python",
   "pygments_lexer": "ipython3",
   "version": "3.7.6"
  }
 },
 "nbformat": 4,
 "nbformat_minor": 4
}
